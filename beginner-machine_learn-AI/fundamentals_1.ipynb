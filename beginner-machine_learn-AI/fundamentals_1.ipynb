{
 "cells": [
  {
   "cell_type": "markdown",
   "metadata": {},
   "source": [
    "FUNDAMENTOS DE MACHINE LEARN && AI"
   ]
  },
  {
   "cell_type": "markdown",
   "metadata": {},
   "source": [
    "Entendendo o que é a inteligência artificial → É a esfera mais abrangente de técnicas e os conceitos principais de como imitar o comportamento humano através de uma máquina\n",
    "\n",
    "Entendendo Machine learn → É um campo mais específico da inteligência artificial, com técnicas de aprendizado baseada em dados, criando padrões automaticamente\n",
    "\n",
    "Entendendo o Deep learn → É o campo de estudo de área avançada de Machine learn, utilizando redes neurais para construção de tarefas"
   ]
  },
  {
   "cell_type": "markdown",
   "metadata": {},
   "source": [
    "ALGUNS TIPOS DE ALGORITMOS DE MACHINE LEARN:\n",
    "\n",
    "Tipos básicos de aprendizado de máquina:\n",
    "1. Aprendizado supervisionado;\n",
    "2. Aprendizado não supervisionado (clustering);\n",
    "3. Aprendizado por reforço;"
   ]
  },
  {
   "cell_type": "markdown",
   "metadata": {},
   "source": [
    "REGRESSÃO x CLASSIFICAÇÃO"
   ]
  }
 ],
 "metadata": {
  "kernelspec": {
   "display_name": "Python 3",
   "language": "python",
   "name": "python3"
  },
  "language_info": {
   "name": "python",
   "version": "3.12.1"
  }
 },
 "nbformat": 4,
 "nbformat_minor": 2
}
