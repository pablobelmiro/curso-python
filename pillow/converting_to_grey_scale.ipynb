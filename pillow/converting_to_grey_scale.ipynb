{
 "cells": [
  {
   "cell_type": "code",
   "execution_count": 23,
   "metadata": {},
   "outputs": [],
   "source": [
    "from PIL import Image, ImageOps\n",
    "import os"
   ]
  },
  {
   "cell_type": "code",
   "execution_count": 25,
   "metadata": {},
   "outputs": [],
   "source": [
    "#Converting images to black and white (grey scale)\n",
    "greyScalePath = 'converted_grey_scale'\n",
    "\n",
    "#checking if already exists the directory\n",
    "if not os.path.exists(greyScalePath):\n",
    "    os.mkdir(greyScalePath)\n",
    "    \n",
    "fotosPath = 'fotos'\n",
    "fotosFiles = [i for i in os.listdir(fotosPath) if i.endswith('jpg')]\n",
    "\n",
    "for foto in fotosFiles:\n",
    "    originFotoPath =  os.path.join(fotosPath, foto) #old foto's path \n",
    "    newFotoPath = os.path.join(greyScalePath, foto) #new foto's path \n",
    "    actualFoto = Image.open(originFotoPath)\n",
    "    \n",
    "    convertedImage = ImageOps.grayscale(actualFoto)\n",
    "    convertedImage.save(newFotoPath, format='JPEG' ,optimize=True)\n",
    "    \n",
    "    \n"
   ]
  }
 ],
 "metadata": {
  "kernelspec": {
   "display_name": "Python 3",
   "language": "python",
   "name": "python3"
  },
  "language_info": {
   "codemirror_mode": {
    "name": "ipython",
    "version": 3
   },
   "file_extension": ".py",
   "mimetype": "text/x-python",
   "name": "python",
   "nbconvert_exporter": "python",
   "pygments_lexer": "ipython3",
   "version": "3.12.2"
  }
 },
 "nbformat": 4,
 "nbformat_minor": 2
}
