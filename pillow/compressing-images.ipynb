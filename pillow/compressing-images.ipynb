{
 "cells": [
  {
   "cell_type": "code",
   "execution_count": 2,
   "metadata": {},
   "outputs": [],
   "source": [
    "from PIL import Image\n",
    "import os"
   ]
  },
  {
   "cell_type": "code",
   "execution_count": 9,
   "metadata": {},
   "outputs": [
    {
     "name": "stdout",
     "output_type": "stream",
     "text": [
      "list files: ['art-1419766.jpg', 'branco.jpg', 'computer-and-apple-1241514.jpg', 'dancing-art-1423697.jpg', 'escritorio.jpg', 'female-portrait-1437999.jpg', 'lion-dance-1418469.jpg', 'mam-calatrava-building-3-1551289.jpg', 'sound-system-1-1420284.jpg']\n",
      "actual archive: art-1419766.jpg\n",
      "filePathInfo: os.stat_result(st_mode=33206, st_ino=281474978090031, st_dev=14856950759986946623, st_nlink=1, st_uid=0, st_gid=0, st_size=859115, st_atime=1714756713, st_mtime=1714742668, st_ctime=1687561456)\n",
      "actual archive: branco.jpg\n",
      "filePathInfo: os.stat_result(st_mode=33206, st_ino=281474978090032, st_dev=14856950759986946623, st_nlink=1, st_uid=0, st_gid=0, st_size=46255, st_atime=1714742885, st_mtime=1714742668, st_ctime=1687561456)\n",
      "actual archive: computer-and-apple-1241514.jpg\n",
      "filePathInfo: os.stat_result(st_mode=33206, st_ino=281474978090033, st_dev=14856950759986946623, st_nlink=1, st_uid=0, st_gid=0, st_size=1299548, st_atime=1714743979, st_mtime=1714742668, st_ctime=1687561456)\n",
      "actual archive: dancing-art-1423697.jpg\n",
      "filePathInfo: os.stat_result(st_mode=33206, st_ino=281474978090034, st_dev=14856950759986946623, st_nlink=1, st_uid=0, st_gid=0, st_size=155187, st_atime=1714743640, st_mtime=1714742668, st_ctime=1687561456)\n",
      "actual archive: escritorio.jpg\n",
      "filePathInfo: os.stat_result(st_mode=33206, st_ino=281474978090035, st_dev=14856950759986946623, st_nlink=1, st_uid=0, st_gid=0, st_size=39184, st_atime=1714743681, st_mtime=1714742668, st_ctime=1687561456)\n",
      "actual archive: female-portrait-1437999.jpg\n",
      "filePathInfo: os.stat_result(st_mode=33206, st_ino=281474978090036, st_dev=14856950759986946623, st_nlink=1, st_uid=0, st_gid=0, st_size=395819, st_atime=1714743635, st_mtime=1714742668, st_ctime=1687561456)\n",
      "actual archive: lion-dance-1418469.jpg\n",
      "filePathInfo: os.stat_result(st_mode=33206, st_ino=281474978090037, st_dev=14856950759986946623, st_nlink=1, st_uid=0, st_gid=0, st_size=946470, st_atime=1714743631, st_mtime=1714742668, st_ctime=1687561456)\n",
      "actual archive: mam-calatrava-building-3-1551289.jpg\n",
      "filePathInfo: os.stat_result(st_mode=33206, st_ino=281474978090038, st_dev=14856950759986946623, st_nlink=1, st_uid=0, st_gid=0, st_size=992661, st_atime=1714743631, st_mtime=1714742669, st_ctime=1687561456)\n",
      "actual archive: sound-system-1-1420284.jpg\n",
      "filePathInfo: os.stat_result(st_mode=33206, st_ino=281474978090039, st_dev=14856950759986946623, st_nlink=1, st_uid=0, st_gid=0, st_size=58097, st_atime=1714743629, st_mtime=1714742669, st_ctime=1687561456)\n"
     ]
    }
   ],
   "source": [
    "#compressing images\n",
    "reduct_factor = 0.5\n",
    "compressedPath = 'compressed_path'\n",
    "\n",
    "#checking if compressed_path already exists at actual directory\n",
    "if compressedPath not in os.listdir():\n",
    "    os.mkdir(compressedPath)\n",
    "    \n",
    "filesPath = 'fotos'\n",
    "files = [i for i in os.listdir(filesPath) if 'jpg' in i]\n",
    "print(f'list files: {files}')\n",
    "\n",
    "size_before = 0\n",
    "size_after = 0\n",
    "\n",
    "for file in files:\n",
    "    print(f'actual archive: {file}')\n",
    "    filePath = os.path.join(filesPath, file) #concatenating path 'from'\n",
    "    newPath = os.path.join(compressedPath, file) #concatenating path 'to'\n",
    "\n",
    "    #path and archive infos\n",
    "    filePathInfo = os.stat(filePath)\n",
    "    size_before += filePathInfo.st_size\n",
    "    print(f'filePathInfo: {filePathInfo}')\n",
    "    \n",
    "    #resizing the image\n",
    "    actualImg = Image.open(filePath)\n",
    "    newWidth = int(reduct_factor * actualImg.size[0])\n",
    "    newHeight = int(reduct_factor * actualImg.size[1])\n",
    "    actualImg = actualImg.resize((newWidth, newHeight), Image.Resampling.LANCZOS)\n"
   ]
  }
 ],
 "metadata": {
  "kernelspec": {
   "display_name": "Python 3",
   "language": "python",
   "name": "python3"
  },
  "language_info": {
   "codemirror_mode": {
    "name": "ipython",
    "version": 3
   },
   "file_extension": ".py",
   "mimetype": "text/x-python",
   "name": "python",
   "nbconvert_exporter": "python",
   "pygments_lexer": "ipython3",
   "version": "3.12.1"
  }
 },
 "nbformat": 4,
 "nbformat_minor": 2
}
