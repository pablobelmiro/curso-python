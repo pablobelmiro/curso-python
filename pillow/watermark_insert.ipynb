{
 "cells": [
  {
   "cell_type": "code",
   "execution_count": 2,
   "metadata": {},
   "outputs": [],
   "source": [
    "from PIL import Image\n",
    "import os"
   ]
  },
  {
   "cell_type": "code",
   "execution_count": 14,
   "metadata": {},
   "outputs": [
    {
     "name": "stdout",
     "output_type": "stream",
     "text": [
      "width: 500 | height: 500\n",
      "fotosFile: ['art-1419766.jpg', 'branco.jpg', 'computer-and-apple-1241514.jpg', 'dancing-art-1423697.jpg', 'escritorio.jpg', 'female-portrait-1437999.jpg', 'lion-dance-1418469.jpg', 'mam-calatrava-building-3-1551289.jpg', 'sound-system-1-1420284.jpg']\n"
     ]
    }
   ],
   "source": [
    "watermark = Image.open('watermark_example.jpg')\n",
    "width, height = watermark.size\n",
    "print(f'width: {width} | height: {height}')\n",
    "\n",
    "watermarkPath = 'watermark_ok'\n",
    "\n",
    "#checking directory\n",
    "if not os.path.exists(watermarkPath):\n",
    "    os.mkdir(watermarkPath)\n",
    "    \n",
    "fotosPath = 'fotos'\n",
    "fotosFile = [i for i in os.listdir(fotosPath) if i.endswith('jpg')]\n",
    "print(f'fotosFile: {fotosFile}')\n",
    "\n",
    "#inserting the watermark\n",
    "for foto in fotosFile:\n",
    "    filePath = os.path.join(fotosPath, foto)\n",
    "    newPath = os.path.join(watermarkPath, foto)\n",
    "    \n",
    "    actualFoto = Image.open(filePath)\n",
    "    w, h = actualFoto.size\n",
    "    \n",
    "    baseWidth = 0.2 * w\n",
    "    wPercent = int(baseWidth / width)\n",
    "    hSize = int(height * wPercent)\n",
    "    \n",
    "    actualFoto.paste(watermark)\n",
    "    actualFoto.save(newPath)\n"
   ]
  }
 ],
 "metadata": {
  "kernelspec": {
   "display_name": "Python 3",
   "language": "python",
   "name": "python3"
  },
  "language_info": {
   "codemirror_mode": {
    "name": "ipython",
    "version": 3
   },
   "file_extension": ".py",
   "mimetype": "text/x-python",
   "name": "python",
   "nbconvert_exporter": "python",
   "pygments_lexer": "ipython3",
   "version": "3.12.2"
  }
 },
 "nbformat": 4,
 "nbformat_minor": 2
}
